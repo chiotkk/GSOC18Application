{
 "cells": [
  {
   "cell_type": "markdown",
   "metadata": {},
   "source": [
    "**DISCLAIMER: I am painfully aware that the slider model is not up to standard. With barely half a day to mock this up from scratch with no prior experience, that was the best I could produce. The final product WILL NOT be of this standard. The current model is simply to showcase a rough idea of future models to come. The idea is still similar, to provide a visual interpretation of the algorithms in the book for better learner understanding. **"
   ]
  },
  {
   "cell_type": "markdown",
   "metadata": {},
   "source": [
    "**The Problem**\n",
    "\n",
    "Just for a minute, put yourself in the shoes (or boots) of an archaeologist exploring the jungles of South America in search of lost treasure. Running across a pyramid-shaped structure, you gingerly step inside, careful not to trigger any hidden booby traps. Inside, you see three long and dark corridors leading in different directions. Your capable assistant back in base camp radios you, confirming that the treasure you seek lies within this pyramid, down one of the three paths.\n",
    "\n",
    "With thoughts of fame and riches in your mind, you start down the left-most of the three paths. With little more than a torch to guide light your way, you have no idea if this is even the right path. Fueled by excitement, you continue your journey down the path, stopping only when you run into a dead-end two hours later. \"Drats!\", you curse, \"that was a waste of time\". Two hours of back-tracking later, you are back at square one. Unwilling to give up, you start down the second path, only this time the trip takes twice as long, still yielding nothing.\n",
    "\n",
    "A grand total of twelve hours later, you are back at where you started, utterly exhausted and absolutely drained of whatever enthusiasm you had in the first place. You decide to give it one last shot, and explore the last path. Not even five minutes into your trek, you notice a twinkle in the darkness up ahead. You've found the lost treasure!\n",
    "\n",
    "On your helicopter ride back to civilisation, you wonder if you could have tackled the problem in a different way. If only there was a way to check for shorter paths first, before going all the way down the rabbit hole for naught. "
   ]
  },
  {
   "cell_type": "markdown",
   "metadata": {},
   "source": [
    "**Breadth-First Search**\n",
    "\n",
    "An alternative way our protagonist could have conducted his exploration, was by going down path equally. What this means is that he could have walked for five minutes down the first path, back-tracked and walked five minutes down the second, and again down the third. Using this strategy, our protagonist would have stumbled upon the treasure in less than an hour, significantly reducing his exploration time. \n",
    "\n",
    "![Explorer](https://i.imgur.com/tE9IaJw.png)\n",
    "\n",
    "To model the above scenario, let's imagine each path as a chain of nodes in a search tree, with the lost treasure being the desired node the algorithm is supposed to locate. In hindsight, it is clear that evenly exploring each path would have yielded superior results. This search strategy is formally known as a Breadth-First Search (BFS) algorithm. "
   ]
  },
  {
   "cell_type": "markdown",
   "metadata": {},
   "source": [
    "As the name suggests, the BFS algorithm searches the shallowest nodes of a search tree first, before moving on to deeper nodes. Below is a randomly generated tree, with each circle representing a node. From our starting point at node A, our goal is to locate node G.\n",
    "\n",
    "![TreeStart](https://i.imgur.com/jom7LNR.png)"
   ]
  },
  {
   "cell_type": "markdown",
   "metadata": {},
   "source": [
    "To kick things off, we initialise a queue to use its first-in-first-out (FIFO) functionality. We then enqueue our initial node A to the queue, and move on to the iterative portion of the algorithm.\n",
    "\n",
    "0. Dequeue a node from the queue (this should be the node added earliest to the queue) and assign it to be the current node. Label it as visited.\n",
    "1. Check if the current node is the desired node. If yes, the algorithm is successful in locating the desire node.\n",
    "2. If the current node is NOT the desired node, request for a list of the current node's neighbouring nodes.\n",
    "3. For every node in the list of neighbouring nodes, if a node has not been previously visited nor queued, enqueue it.\n",
    "4. Repeat from step 0.\n",
    "\n",
    "Advance the slider below to step through the algorithm."
   ]
  },
  {
   "cell_type": "code",
   "execution_count": 110,
   "metadata": {},
   "outputs": [
    {
     "data": {
      "application/vnd.jupyter.widget-view+json": {
       "model_id": "789cf80cd7e8477c977a8d2c55c8e3b1",
       "version_major": 2,
       "version_minor": 0
      },
      "text/html": [
       "<p>Failed to display Jupyter Widget of type <code>interactive</code>.</p>\n",
       "<p>\n",
       "  If you're reading this message in the Jupyter Notebook or JupyterLab Notebook, it may mean\n",
       "  that the widgets JavaScript is still loading. If this message persists, it\n",
       "  likely means that the widgets JavaScript library is either not installed or\n",
       "  not enabled. See the <a href=\"https://ipywidgets.readthedocs.io/en/stable/user_install.html\">Jupyter\n",
       "  Widgets Documentation</a> for setup instructions.\n",
       "</p>\n",
       "<p>\n",
       "  If you're reading this message in another frontend (for example, a static\n",
       "  rendering on GitHub or <a href=\"https://nbviewer.jupyter.org/\">NBViewer</a>),\n",
       "  it may mean that your frontend doesn't currently support widgets.\n",
       "</p>\n"
      ],
      "text/plain": [
       "interactive(children=(IntSlider(value=0, description='Step: ', max=13), Output()), _dom_classes=('widget-interact',))"
      ]
     },
     "metadata": {},
     "output_type": "display_data"
    }
   ],
   "source": [
    "from IPython.display import Image,display     \n",
    "\n",
    "Step = widgets.IntSlider(min=0, max=13, value=0, description='Step: ')\n",
    "im0 = Image('https://i.imgur.com/VkT0a2R.png')\n",
    "im1 = Image('https://i.imgur.com/p1pS5Ys.png') \n",
    "im2 = Image('https://i.imgur.com/o5dfkFa.png')\n",
    "im3 = Image('https://i.imgur.com/btsQ8Yh.png') \n",
    "im4 = Image('https://i.imgur.com/Z4cPVZl.png')\n",
    "im5 = Image('https://i.imgur.com/Z4cPVZl.png') \n",
    "im6 = Image('https://i.imgur.com/ADPeIcD.png')\n",
    "im7 = Image('https://i.imgur.com/1YgSbJg.png') \n",
    "im8 = Image('https://i.imgur.com/3bGp4Bu.png')\n",
    "im9 = Image('https://i.imgur.com/mMz4q9i.png') \n",
    "im10 = Image('https://i.imgur.com/bgZKSJU.png')\n",
    "im11 = Image('https://i.imgur.com/au4ePg6.png') \n",
    "im12 = Image('https://i.imgur.com/tk7Fdzr.png')\n",
    "im13 = Image('https://i.imgur.com/W8fk4NR.png') \n",
    "\n",
    "\n",
    "def outputVal(x):\n",
    "    if x == 0:\n",
    "        display(im0)\n",
    "    elif x == 1:\n",
    "        display(im1)\n",
    "    elif x == 2:\n",
    "        display(im2)\n",
    "    elif x == 3:\n",
    "        display(im3)\n",
    "    elif x == 4:\n",
    "        display(im4)\n",
    "    elif x == 5:\n",
    "        display(im5)\n",
    "    elif x == 6:\n",
    "        display(im6)\n",
    "    elif x == 7:\n",
    "        display(im7)\n",
    "    elif x == 8:\n",
    "        display(im8)\n",
    "    elif x == 9:\n",
    "        display(im9)\n",
    "    elif x == 10:\n",
    "        display(im10)\n",
    "    elif x == 11:\n",
    "        display(im11)\n",
    "    elif x == 12:\n",
    "        display(im12)\n",
    "    else:\n",
    "        display(im13)\n",
    "        \n",
    "widgets.interactive(outputVal, x=Step)"
   ]
  },
  {
   "cell_type": "markdown",
   "metadata": {},
   "source": [
    "Unlike our little story from the start of this section, in the above situation, a BFS algorithm turns out to be the worst possible strategy to use (seeing as the node we wanted to find was the last node we visited). A BFS algorithm will thus not always be the optimal algorithm to implement. Nevertheless, it is a basic search algorithm that should be in every machine learning enthusiast's back pocket."
   ]
  }
 ],
 "metadata": {
  "kernelspec": {
   "display_name": "Python 3",
   "language": "python",
   "name": "python3"
  },
  "language_info": {
   "codemirror_mode": {
    "name": "ipython",
    "version": 3
   },
   "file_extension": ".py",
   "mimetype": "text/x-python",
   "name": "python",
   "nbconvert_exporter": "python",
   "pygments_lexer": "ipython3",
   "version": "3.6.4"
  }
 },
 "nbformat": 4,
 "nbformat_minor": 2
}
